{
  "nbformat": 4,
  "nbformat_minor": 0,
  "metadata": {
    "colab": {
      "name": "Copy of Untitled0.ipynb",
      "provenance": [],
      "collapsed_sections": [],
      "authorship_tag": "ABX9TyOMqKQR6qduRO4c1H+NoZt5",
      "include_colab_link": true
    },
    "kernelspec": {
      "name": "python3",
      "display_name": "Python 3"
    }
  },
  "cells": [
    {
      "cell_type": "markdown",
      "metadata": {
        "id": "view-in-github",
        "colab_type": "text"
      },
      "source": [
        "<a href=\"https://colab.research.google.com/github/Balu9100/cloud-/blob/master/Copy_of_Untitled0.ipynb\" target=\"_parent\"><img src=\"https://colab.research.google.com/assets/colab-badge.svg\" alt=\"Open In Colab\"/></a>"
      ]
    },
    {
      "cell_type": "code",
      "metadata": {
        "id": "vieC2Y8FVwYT",
        "colab_type": "code",
        "outputId": "3027eaf0-f490-42b2-d357-db741bcbf903",
        "colab": {
          "base_uri": "https://localhost:8080/",
          "height": 85
        }
      },
      "source": [
        "# c =(x-n)%26\n",
        "text=input(\"enter the text\")\n",
        "s=int(input(\"enter the shift key\"))\n",
        "\n",
        "\n",
        "def encripted (string,shift):\n",
        "   ciper = ''\n",
        "   for char in string:\n",
        "     if char=='':\n",
        "       ciper=ciper+char\n",
        "     elif char.isupper():\n",
        "       ciper=ciper+chr((ord(cord)+shift-65)%26+65)\n",
        "     else:\n",
        "       ciper=ciper+chr((ord(char)+shift-97)%26+97)\n",
        "   return ciper\n",
        "\n",
        "\n",
        "\n",
        "print(\"the original string is:\",text)\n",
        "print(\"the encripted msg is:\",encripted (text,s))\n",
        "      \n"
      ],
      "execution_count": 0,
      "outputs": [
        {
          "output_type": "stream",
          "text": [
            "enter the textant\n",
            "enter the shift key3\n",
            "the original string is: ant\n",
            "the encripted msg is: dqw\n"
          ],
          "name": "stdout"
        }
      ]
    }
  ]
}